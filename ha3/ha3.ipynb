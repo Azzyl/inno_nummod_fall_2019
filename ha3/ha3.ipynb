{
 "cells": [
  {
   "cell_type": "code",
   "execution_count": 0,
   "metadata": {
    "colab": {},
    "colab_type": "code",
    "id": "hB14VNFq-DDZ"
   },
   "outputs": [],
   "source": [
    "import sympy as sp\n",
    "import numpy as np\n",
    "import matplotlib.pyplot as plt"
   ]
  },
  {
   "cell_type": "markdown",
   "metadata": {
    "colab_type": "text",
    "id": "Rngt_Hg5-DDb"
   },
   "source": [
    "### 1. Derive formula of $L_{2}(x)$ in terms of interpolation phase $ u = \\frac{x - x_{i}}{h} $.  Integrate $ \\hat{I_{i}^{i+2}}$ with received formula as integrand  [mathematical formula]. Usetimation time: ~30m"
   ]
  },
  {
   "cell_type": "markdown",
   "metadata": {
    "colab_type": "text",
    "id": "iGM0YEHT-DDc"
   },
   "source": [
    "**Note** Use constant step $h = const$ and condition *number of segments is even* $n = 2k$"
   ]
  },
  {
   "cell_type": "markdown",
   "metadata": {
    "colab_type": "text",
    "id": "vm0Bnsw8IVgm"
   },
   "source": [
    "$L_2(x) = \n",
    "\\frac{(x - x_{i+1})(x - x_{i+2})}\n",
    "{(x_i - x_{i+1})(x_i - x_{i+2})} f_i + \n",
    "\\frac{(x - x_{i})(x - x_{i+2})}\n",
    "{(x_{i+1} - x_{i})(x_{i+1} - x_{i+2})} f_{i+1}+\n",
    "\\frac{(x - x_{i})(x - x_{i+1})}\n",
    "{(x_{i+2} - x_{i})(x_{i+2} - x_{i+1})} f_{i+2}\n",
    "$\n",
    "\n",
    "$| \\ u=\\frac{x-x_i}{h}; \\ h = x_{i+1} - x_i = const; \\ x_{i+2} - x_{i} = 2|$\n",
    "\n",
    "$L_2(x) = (\\frac{x - x_{i}}{x_{i+1} - x_{i}} - 1)(\\frac{x - x_{i}}{2(x_{i+1} - x_{i})} - 1)f_i + (\\frac{x - x_{i}}{x_{i+1} - x_{i}})(\\frac{x - x_{i}}{x_{i+1} - x_{i}} - 2)f_{i+1} + (\\frac{x - x_{i}}{2(x_{i+1} - x_{i})})(\\frac{x - x_{i}}{x_{i+1} - x_{i}} - 1)f_{i+2}\n",
    "$\n",
    "\n",
    "$L_2(x) = \\frac{1}{2}(u-1)(u-2)f_i+u(u-2)f_{i+1}+\\frac{1}{2}u(u-1)f_{i+2}$\n",
    "\n",
    "$| \\ dx = h*du; \\ x = x_i => u = 0; x = x_{i+1} => u = 1; x = x_{i+2} => u=2|$\n",
    "\n",
    "$\\hat{I_i^{i+2}}=\\int_{x_i}^{x_{i+2}}L_2(x)dx = h*\\int_{0}^{2}(\\frac{1}{2}(u-1)(u-2)f_i+u(u-2)f_{i+1}+\\frac{1}{2}u(u-1)f_{i+2})du = \\frac{h}{3}(f_i + 4f_{i+1}+f_{i+2})$"
   ]
  },
  {
   "cell_type": "markdown",
   "metadata": {
    "colab_type": "text",
    "id": "aJhl1a_C-DDe"
   },
   "source": [
    "### 2. Explain how used condition $n = 2k$ helps us in integration. If we want to use odd number of segments we have to integrate with even number of segments but add the value $I_{n-1}^n$. What is the calculation accuracy order of $I_{n-1}^n$? Why? Explain both. [mathematical formula]. Usetimation time: ~30m"
   ]
  },
  {
   "cell_type": "markdown",
   "metadata": {
    "colab_type": "text",
    "id": "D8ObytfrIWwp"
   },
   "source": [
    "With application of Simpson's formula (double-interval quadrature formula of parabolas) we calculate $\\hat{I}_{i-1}^{i+1}$ for $2$ intervals $([x_{i-1},x_{i}]; \\ [x_i,x_{i+1}])$\n",
    "\n",
    "The formula works great due to $n=2k$, this guaranties us even $n$\n",
    "\n",
    "Calculation accuracy is $O(h^5)$ because Simpson's formula provides us $O(h^5)$ accuracy (we have $O(h^4)$ due to order matching rule and plus one due to simmetry of the formula when $h=const$) "
   ]
  },
  {
   "cell_type": "markdown",
   "metadata": {
    "colab_type": "text",
    "id": "kNPUymCb-DDg"
   },
   "source": [
    "### 3. Derive the formula of whole $\\hat{I_{a}^{b}}$. Summarize all integrals on segments $\\hat{I_{i}^{i+1}}$ for even case, and for odd case. [mathematical formula]. Usetimation time: ~30m"
   ]
  },
  {
   "cell_type": "markdown",
   "metadata": {
    "colab_type": "text",
    "id": "5dPff9_bIX45"
   },
   "source": []
  },
  {
   "cell_type": "markdown",
   "metadata": {
    "colab_type": "text",
    "id": "VNMhLpCO-DDi"
   },
   "source": [
    "### 4. Derive the formula of trapezoid quadrature formula error estimation. Use Taylor series expansion for antiderivative $F_{i+1}$ and $f_{i+1}$  [mathematical formula] Usetimation time: ~30m"
   ]
  },
  {
   "cell_type": "markdown",
   "metadata": {
    "colab_type": "text",
    "id": "1IRlzQFkIYwz"
   },
   "source": []
  },
  {
   "cell_type": "markdown",
   "metadata": {
    "colab_type": "text",
    "id": "WtkjhDyL-DDk"
   },
   "source": [
    "### Congrats!"
   ]
  }
 ],
 "metadata": {
  "colab": {
   "name": "ha3.ipynb",
   "provenance": []
  },
  "kernelspec": {
   "display_name": "Python 3",
   "language": "python",
   "name": "python3"
  },
  "language_info": {
   "codemirror_mode": {
    "name": "ipython",
    "version": 3
   },
   "file_extension": ".py",
   "mimetype": "text/x-python",
   "name": "python",
   "nbconvert_exporter": "python",
   "pygments_lexer": "ipython3",
   "version": "3.6.8"
  }
 },
 "nbformat": 4,
 "nbformat_minor": 1
}
