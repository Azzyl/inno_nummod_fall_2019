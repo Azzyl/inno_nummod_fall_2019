{
 "cells": [
  {
   "cell_type": "code",
   "execution_count": null,
   "metadata": {},
   "outputs": [],
   "source": [
    "import sympy as sp\n",
    "import numpy as np\n",
    "import matplotlib.pyplot as plt"
   ]
  },
  {
   "cell_type": "markdown",
   "metadata": {},
   "source": [
    "### 1. Formulate the statement of the interpolation problem with Cubic Spline [mathematical formula]"
   ]
  },
  {
   "cell_type": "markdown",
   "metadata": {},
   "source": [
    "#### Definition: \n",
    "Cubic spline interpolation is a special case for Spline interpolation that is used very often to avoid the problem of Runge's phenomenon. This method gives an interpolating polynomial that is smoother and has smaller error than some other interpolating polynomials such as Lagrange polynomial and Newton polynomial.\n",
    "\n",
    "#### Formula: \n",
    "Interpolation points $y_{i}$ = $f(x_{i})$,\n",
    "\n",
    "where $i = \\overline{0,n}, x_{i}\\in[a, b]$\n",
    "\n",
    "on base of Cubic splines $S_{3}(x)\\in C_{2}[a, b]$ ($S$ is two times continuously differentiable on $[a,b]$)\n",
    "\n",
    "$\\forall i : S^i_3$ is a $3$rd degree polynomial on subregion $i$, where subregion$_i$ is $x \\in [x_i, x_{i+1}]$   "
   ]
  },
  {
   "cell_type": "markdown",
   "metadata": {},
   "source": [
    "### 2. Formulate the functional and differential compatibility conditions [mathematical formula]"
   ]
  },
  {
   "cell_type": "markdown",
   "metadata": {},
   "source": [
    "#### Functional conditions\n",
    "$\\delta S(x)|_{x=x_i} = {S_i}(x)-f_i(x_i)=0$\n",
    "#### Diffrential conditions\n",
    "$\\delta S''(x)|_{x=x_i} = {S_i''}(x)-f_i''(x_i)=0$"
   ]
  },
  {
   "cell_type": "markdown",
   "metadata": {},
   "source": [
    "### 3. Formulate stitching conditions [mathematical formula]"
   ]
  },
  {
   "cell_type": "markdown",
   "metadata": {},
   "source": [
    "  $S_{3,i-1}'(x)|_{x=x_i}=S_{3,i}'(x)|_{x=x_i},i=\\overline{1,n-1}$"
   ]
  },
  {
   "cell_type": "markdown",
   "metadata": {},
   "source": [
    "### 4. Justify why these conditions provide you with the required smoothness [thesis text, no more than 500 characters]"
   ]
  },
  {
   "cell_type": "markdown",
   "metadata": {},
   "source": [
    "Interpolation requires smoothness $C^2$\n",
    "\n",
    "$C^0$ is obtained due to functional condition\n",
    "\n",
    "$C^1$ is obtained due to stitching condition (First slopes on each point are equal)\n",
    "\n",
    "$C^2$ is obtained due to differential condition (It is and indicator of existance of second slopes and it's value is equal to $f{(2)}$ in each point)"
   ]
  },
  {
   "cell_type": "markdown",
   "metadata": {},
   "source": [
    "### 5. Derive dependency formula: the dependence of the second derivatives at the grid nodes on the increment of the function (the function values difference on the grid nodes). [Mathematical formulas derivation. Detailed, with clear transitions]"
   ]
  },
  {
   "cell_type": "markdown",
   "metadata": {},
   "source": [
    "**Statements** \n",
    "\n",
    "$\\Delta^+ m_{2,i} = f''(x_{i+1}) - f''(x_i)$ - forward second derivative values difference \n",
    "\n",
    "$h_{i+1} = x_{i+1} - x_i$\n",
    "\n",
    "$\\Delta+ f_{i} = f_{i+1} - f_i, f_i = f(x_i)$\n",
    "\n",
    "\n",
    "\n",
    "---\n",
    "\n",
    "$S_{3, i}(x) = a_{0,i} + a_{1,i}(x-x_i) + a_{2, i}(x-x_i)^2 + a_{3, i}(x-x_i)^3$\n",
    "\n",
    "##### We have\n",
    "\n",
    "$S_{3, i}(x_i) = f(x_i)$\n",
    "\n",
    "$S_{3, i}(x_{i+1}) = f(x_{i+1})$\n",
    "\n",
    "$S^{''}_{3, i}(x_i) = f^{''}(x_i)$\n",
    "\n",
    "$S^{''}_{3, {i+1}} = f^{''}(x_{i+1})$\n",
    "\n",
    "##### that equals\n",
    "\n",
    "$a_0 + a_1(x_i - x_i) + a_2(x_i - x_i)^2 + a_3(x_i - x_i)^3 - f(x_i) = 0$\n",
    "\n",
    "$a_0 + a_1(x_{i+1} - x_i) + a_2(x_{i+1} - x_i)^2 + a_3(x_{i+1} - x_i)^3 - f(x_{i+1}) = 0$\n",
    "\n",
    "$2a_2 + 6a_3(x_i - x_i) - f^{''}(x_i) = 0$\n",
    "\n",
    "$2a_2 + 6a_3(x_{i+1} - x_i) - f^{''}(x_{i+1}) = 0$\n",
    "\n",
    "##### it implies\n",
    "\n",
    "$a_0 = f_i$\n",
    "\n",
    "$a_2 = \\frac{m_i}{2}$\n",
    "\n",
    "$a_3 = \\frac{m_{i+1} - m{i}}{6(x_{i+1} - x_i)} = \\frac{\\Delta m_i}{6h_{i+1}}$\n",
    "\n",
    "##### from that we can make a statement\n",
    "\n",
    "$S_{3, i} = f_{i} + (\\frac{\\Delta f_{i}}{h_{i+1}} - \\frac{h_{i+1}}{2}m_{i} - \\frac{h_{i+1}}{6}\\Delta m_{i})(x-x_{i}) + \\frac{m_{i}}{2}(x-x_{i})^{2} + \\frac{1}{6h_{i+1}}\\Delta m_{i}(x-x_{i})^{3}$, $i \\in [0..n-1]$\n",
    "\n",
    "##### with use of stiching condition:\n",
    "\n",
    "$S^{'}_{3, i - 1}(x)|_{x = x_{i}} = S^{'}_{3, i}(x)|_{x = x_{i}}$\n",
    "\n",
    "##### after difference of these equations with observed pararmeters we get:\n",
    "\n",
    "$\\frac{\\Delta f_{i-1}}{h_{i}} - \\frac{h_{i}m_{i-1}}{2}-\\frac{h_{i}\\Delta m_{i-1}}{6} + m_{i-1}h_{i} + \\frac{\\Delta m_{i-1}}{2h_{i}}h_{i}^{2} = \\frac{\\Delta f_{i}}{h_{i+1}} - \\frac{h_{i+1}m_{i}}{2} - \\frac{h_{i+1}\\Delta m_{i}}{6}$\n",
    "\n",
    "$\\frac{h_{i}}{6}m_{i-1} + \\frac{h_{i} + h_{i+1}}{3}m_{i} + \\frac{h_{i+1}}{6}m_{i+1} = \\frac{\\Delta f_{i}}{h_{i+1}} - \\frac{\\Delta f_{i-1}}{h_{i}}$"
   ]
  },
  {
   "cell_type": "markdown",
   "metadata": {},
   "source": [
    "### 6. Create a system of equations using this formula [Matrix representation. Mathematical formulas]"
   ]
  },
  {
   "cell_type": "markdown",
   "metadata": {},
   "source": [
    "Using above formula we have following matrices:\n",
    "\n",
    "$\\begin{bmatrix}\n",
    "\\frac{h_{1}}{6} & \\frac{h_{1} + h_{2}}{3} & \\frac{h_{2}}{6} &  0 & ... & ...\\\\\n",
    "0 & \\frac{h_{2}}{6}& \\frac{h_{2} + h_{3}}{3} & \\frac{h_{3}}{6} & 0 & ...\\\\\n",
    "... & ... & ... & ... & ... & ...\\\\\n",
    "... & 0 & \\frac{h_{n-2}}{6} & \\frac{h_{n-2} + h_{n-1}}{3} & \\frac{h_{n-1}}{6} & 0\\\\\n",
    "... & ...  & 0 & \\frac{h_{n-1}}{6} & \\frac{h_{n-1} + h_{n}}{3} & \\frac{h_{n}}{6}\\\\\n",
    "\\end{bmatrix}\n",
    "\\quad\n",
    "\\begin{bmatrix}\n",
    "m_{0}\\\\\n",
    "m_{1}\\\\\n",
    "...\\\\\n",
    "m_{n-1}\\\\\n",
    "m_{n} \\\\\n",
    "\\end{bmatrix}\n",
    "\\quad\n",
    "=\n",
    "\\quad\n",
    "\\begin{bmatrix}\n",
    "\\frac{\\Delta f_{1}}{h_{2}} - \\frac{\\Delta f_{0}}{h_{1}}\\\\\n",
    "\\frac{\\Delta f_{2}}{h_{3}} - \\frac{\\Delta f_{1}}{h_{2}}\\\\\n",
    "...\\\\\n",
    "\\frac{\\Delta f_{n-2}}{h_{n-1}} - \\frac{\\Delta f_{n-3}}{h_{n-2}}\\\\\n",
    "\\frac{\\Delta f_{n-1}}{h_{n}} - \\frac{\\Delta f_{n-2}}{h_{n-1}}\n",
    "\\end{bmatrix}$"
   ]
  },
  {
   "cell_type": "markdown",
   "metadata": {},
   "source": [
    "### 7. Explain what is an unknown variable in this system. whether the system is closed with respect to an unknown variable. What is missing for closure. [Text, no more than 200 characters]"
   ]
  },
  {
   "cell_type": "markdown",
   "metadata": {},
   "source": [
    "The unknown variable in the system is the second derivative ($m_i$) of the function. \n",
    "\n",
    "System is open, as we have only $n - 1$ equations, but also have $n + 1$ unknowns, so we need 2 more equations for closure.\n",
    "\n",
    "Thus we add \n",
    "\n",
    "$m_0 = 0$\n",
    "\n",
    "$m_n = 0$\n"
   ]
  },
  {
   "cell_type": "markdown",
   "metadata": {},
   "source": [
    "### 8. Bring this matrix to the appropriate form to use the Tridiagonal matrix algorithm [Mathematical derivation. Use Gauss Elimination]"
   ]
  },
  {
   "cell_type": "markdown",
   "metadata": {},
   "source": [
    "$$ \\begin{bmatrix}\n",
    "    1      & -P_1   & 0      & 0      & \\dots     & 0      \\\\\n",
    "    0      & 1      & -P_2   & 0      & \\dots     & 0      \\\\\n",
    "    0      & 0      & 1      & -P_3   & \\dots     & 0      \\\\\n",
    "    \\dots & \\dots & \\dots & \\dots & \\dots    & \\dots \\\\\n",
    "    0      & 0      & 0      & 0      & \\dots     & 1 \n",
    "\\end{bmatrix} M = \\begin{bmatrix}\n",
    "    Q_0 \\\\\n",
    "    Q_1 \\\\\n",
    "    Q_2 \\\\\n",
    "    \\vdots \\\\\n",
    "    Q_{n-1}\n",
    "\\end{bmatrix} $$"
   ]
  },
  {
   "cell_type": "markdown",
   "metadata": {},
   "source": [
    "### 9. Derive formulas of direct pass and reverse pass of Tridiagonal matrix algorithm [Mathematical formals]"
   ]
  },
  {
   "cell_type": "markdown",
   "metadata": {},
   "source": [
    "### Direct pass\n",
    "\n",
    "1. Find $P_1 = \\frac{γ_1}{β_1}; Q_1 = -\\frac{δ_1}{β_1}$\n",
    "2. Find $P_2, Q_2; P_3, Q_3, .. , P_{n - 1}, Q_{n - 1}$\n",
    "\n",
    "### Reverse pass\n",
    "\n",
    "1. Find $x_n = \\frac{ά_n Q_{n - 1} - δ_n}{B_n - ά_n P_{n - 1}}$\n",
    "2. Find $x_{n - 1}, x_{n - 2}, .. , x_1$ using formula:\n",
    "  $x_{i - 1} = P_{i - 1} x_i + Q_{i - 1} , {i = n, .. 2}$"
   ]
  },
  {
   "cell_type": "markdown",
   "metadata": {},
   "source": [
    "### 10. Implement code prototype of the future algorithm implementation. Classes/methods (if you use OOP), functions. The final implementation (on language chosen by you) should not differ from the functions declared in the prototype. [Python code]"
   ]
  },
  {
   "cell_type": "code",
   "execution_count": null,
   "metadata": {},
   "outputs": [],
   "source": [
    "def direct_pass(A, d):\n",
    "    '''\n",
    "    Performs direct pass of Tridiagonal matrix algorithm\n",
    "    '''\n",
    "    return P, Q\n",
    "\n",
    "def reverse_pass(A, d, P, Q):\n",
    "    '''\n",
    "    Performs reverse pass of Tridiagonal matrix algorithm    \n",
    "    '''\n",
    "    return result\n",
    "\n",
    "P, Q = direct_pass(A, d)\n",
    "\n",
    "x = reverse_pass(A, d, P, Q)"
   ]
  },
  {
   "cell_type": "markdown",
   "metadata": {},
   "source": [
    "### 11. Derive formula of Cubic Spline method error [Mathematical formulas]"
   ]
  },
  {
   "cell_type": "markdown",
   "metadata": {},
   "source": [
    "It is proved that on a uniform grid a spline function $S_{3, i}$ converges to $f(x) \\in C_{4}[a, b]$ with fourth order, and following estimatations are valid:\n",
    "\n",
    "$||f^{(p)}(x) - S^{(p)} _{3}(x)||_{C[a, b]} = \\max _{[a, b]} |f^{(p)}(x) - S^{(p)} _{3}(x)| \\leq M_{4}h^{4-p}$, $p = 0, 1, 2.$\n",
    "\n",
    "Where $M_4 = \\max_{[a,b]}|f^{(4)}(x)|$.\n",
    "\n",
    "On an ununiform grid:\n",
    "\n",
    "$||f^{(p)}(x) - S^{(p)} _{3}(x)||_{C[a, b]} \\leq M_{4}h_{max}^{4-p}$, где $h_{max} = \\max _{1 \\leq i \\leq n}h_{i}$."
   ]
  },
  {
   "cell_type": "markdown",
   "metadata": {},
   "source": [
    "### 12. Rate the complexity of the algorithm [Text, and rate in terms of big O, no more than 100 characters]"
   ]
  },
  {
   "cell_type": "markdown",
   "metadata": {},
   "source": [
    "Complexity of direct pass is $O(n)$, the reverse pass is the same, thus total complexity of the algorith is $O(n)$."
   ]
  },
  {
   "cell_type": "markdown",
   "metadata": {},
   "source": [
    "### Congrats!"
   ]
  }
 ],
 "metadata": {
  "kernelspec": {
   "display_name": "Python 3",
   "language": "python",
   "name": "python3"
  },
  "language_info": {
   "codemirror_mode": {
    "name": "ipython",
    "version": 3
   },
   "file_extension": ".py",
   "mimetype": "text/x-python",
   "name": "python",
   "nbconvert_exporter": "python",
   "pygments_lexer": "ipython3",
   "version": "3.6.8"
  }
 },
 "nbformat": 4,
 "nbformat_minor": 2
}
